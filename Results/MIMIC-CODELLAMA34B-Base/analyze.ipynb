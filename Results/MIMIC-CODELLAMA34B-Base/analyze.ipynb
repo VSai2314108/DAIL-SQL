{
 "cells": [
  {
   "cell_type": "code",
   "execution_count": 4,
   "metadata": {},
   "outputs": [],
   "source": [
    "import json\n",
    "\n",
    "file = json.load(open(\"/blue/daisyw/somasundaramv/DAIL-SQL/Results/MIMIC-CODELLAMA34B/analysis_of_results.json\"))"
   ]
  },
  {
   "cell_type": "code",
   "execution_count": 5,
   "metadata": {},
   "outputs": [
    {
     "name": "stdout",
     "output_type": "stream",
     "text": [
      "Total number of exact match:  196\n",
      "Total number of correct:  370\n",
      "Total number of wrong:  630\n",
      "Accuracy:  0.37\n"
     ]
    }
   ],
   "source": [
    "# count the total number of correct and wrong\n",
    "correct = [entry for entry in file if entry[\"DECISION\"] == \"CORRECT\"]\n",
    "wrong = [entry for entry in file if entry[\"DECISION\"] == \"WRONG\"]\n",
    "\n",
    "exact_match = [entry for entry in file if entry[\"GOLD SQL\"] == entry[\"PREDICTED SQL\"]]\n",
    "print(\"Total number of exact match: \", len(exact_match))\n",
    "\n",
    "print(\"Total number of correct: \", len(correct))\n",
    "print(\"Total number of wrong: \", len(wrong))\n",
    "print(\"Accuracy: \", len(correct) / (len(correct) + len(wrong)))"
   ]
  },
  {
   "cell_type": "code",
   "execution_count": 11,
   "metadata": {},
   "outputs": [
    {
     "name": "stdout",
     "output_type": "stream",
     "text": [
      "Number of wrong with equal lower case:  66\n",
      "Percentage of wrong with equal lower case:  0.10476190476190476\n"
     ]
    }
   ],
   "source": [
    "# count the number of wrong where the lower case versions are equal\n",
    "wrong_with_equal_lower = [entry for entry in wrong if entry[\"GOLD SQL\"].lower() == entry[\"PREDICTED SQL\"].lower()]\n",
    "print(\"Number of wrong with equal lower case: \", len(wrong_with_equal_lower))\n",
    "print(\"Percentage of wrong with equal lower case: \", len(wrong_with_equal_lower) / len(wrong))\n",
    "\n",
    "wrong_with_different_lower = [entry for entry in wrong if entry[\"GOLD SQL\"].lower() != entry[\"PREDICTED SQL\"].lower()]"
   ]
  },
  {
   "cell_type": "code",
   "execution_count": 18,
   "metadata": {},
   "outputs": [
    {
     "name": "stdout",
     "output_type": "stream",
     "text": [
      "Number of wrong with JOIN in GOLD SQL:  290\n",
      "Percentage of wrong with JOIN in GOLD SQL:  0.5141843971631206\n"
     ]
    }
   ],
   "source": [
    "# for the wrong entries count the number which have JOIN in the GOLD SQL\n",
    "wrong_with_join = [entry for entry in wrong_with_different_lower if \"JOIN\" in entry[\"GOLD SQL\"]]\n",
    "print(\"Number of wrong with JOIN in GOLD SQL: \", len(wrong_with_join))\n",
    "print(\"Percentage of wrong with JOIN in GOLD SQL: \", len(wrong_with_join) / len(wrong_with_different_lower))\n",
    "wrong_without_join = [entry for entry in wrong_with_different_lower if \"JOIN\" not in entry[\"GOLD SQL\"]]"
   ]
  },
  {
   "cell_type": "code",
   "execution_count": 17,
   "metadata": {},
   "outputs": [
    {
     "name": "stdout",
     "output_type": "stream",
     "text": [
      "Number of wrong with ICD9 in PREDICTED SQL and not in GOLD SQL:  128\n",
      "Percentage of wrong with ICD9 in PREDICTED SQL and not in GOLD SQL:  0.22695035460992907\n"
     ]
    }
   ],
   "source": [
    "# find the number of wrong entries were predicted has ICD9 and GOLD does not\n",
    "wrong_with_icd9 = [entry for entry in wrong_with_different_lower if \"ICD9\" in entry[\"PREDICTED SQL\"] and \"ICD9\" not in entry[\"GOLD SQL\"]]\n",
    "print(\"Number of wrong with ICD9 in PREDICTED SQL and not in GOLD SQL: \", len(wrong_with_icd9))\n",
    "print(\"Percentage of wrong with ICD9 in PREDICTED SQL and not in GOLD SQL: \", len(wrong_with_icd9) / len(wrong_with_different_lower))"
   ]
  },
  {
   "cell_type": "code",
   "execution_count": null,
   "metadata": {},
   "outputs": [],
   "source": [
    "# save the wrong entries to a file claled wrong.json\n",
    "with open(\"wrong.json\", \"w\") as f:\n",
    "    json.dump(wrong_without_join, f, indent=4)"
   ]
  }
 ],
 "metadata": {
  "kernelspec": {
   "display_name": "Python 3",
   "language": "python",
   "name": "python3"
  },
  "language_info": {
   "codemirror_mode": {
    "name": "ipython",
    "version": 3
   },
   "file_extension": ".py",
   "mimetype": "text/x-python",
   "name": "python",
   "nbconvert_exporter": "python",
   "pygments_lexer": "ipython3",
   "version": "3.9.6"
  }
 },
 "nbformat": 4,
 "nbformat_minor": 2
}
